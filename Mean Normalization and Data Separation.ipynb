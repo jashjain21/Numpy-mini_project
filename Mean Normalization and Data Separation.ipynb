{
 "cells": [
  {
   "cell_type": "markdown",
   "metadata": {},
   "source": [
    "# Mean Normalization\n",
    "\n",
    "In machine learning we use large amounts of data to train our models. Some machine learning algorithms may require that the data is *normalized* in order to work correctly. The idea of normalization, also known as *feature scaling*, is to ensure that all the data is on a similar scale, *i.e.* that all the data takes on a similar range of values. For example, we might have a dataset that has values between 0 and 5,000. By normalizing the data we can make the range of values be between 0 and 1.\n",
    "\n",
    "In this lab, you will be performing a different kind of feature scaling known as *mean normalization*. Mean normalization will scale the data, but instead of making the values be between 0 and 1, it will distribute the values evenly in some small interval around zero. For example, if we have a dataset that has values between 0 and 5,000, after mean normalization the range of values will be distributed in some small range around 0, for example between -3 to 3. Because the range of values are distributed evenly around zero, this guarantees that the average (mean) of all elements will be zero. **Therefore, when you perform *mean normalization* your data will not only be scaled but it will also have an average of zero.** \n",
    "\n",
    "# To Do:\n",
    "\n",
    "You will start by importing NumPy and creating a rank 2 ndarray of random integers between 0 and 5,000 (inclusive) with 1000 rows and 20 columns. This array will simulate a dataset with a wide range of values. Fill in the code below"
   ]
  },
  {
   "cell_type": "code",
   "execution_count": 1,
   "metadata": {},
   "outputs": [
    {
     "name": "stdout",
     "output_type": "stream",
     "text": [
      "(1000, 20)\n"
     ]
    }
   ],
   "source": [
    "# import NumPy into Python\n",
    "import numpy as np\n",
    "\n",
    "# Create a 1000 x 20 ndarray with random integers in the half-open interval [0, 5001).\n",
    "X = np.random.randint(0,5001,size=(1000,20))\n",
    "\n",
    "# print the shape of X\n",
    "print(np.shape(X))"
   ]
  },
  {
   "cell_type": "markdown",
   "metadata": {},
   "source": [
    "Now that you created the array we will mean normalize it. We will perform mean normalization using the following equation:\n",
    "\n",
    "$\\mbox{Norm_Col}_i = \\frac{\\mbox{Col}_i - \\mu_i}{\\sigma_i}$\n",
    "\n",
    "where $\\mbox{Col}_i$ is the $i$th column of $X$, $\\mu_i$ is average of the values in the $i$th column of $X$, and $\\sigma_i$ is the standard deviation of the values in the $i$th column of $X$. In other words, mean normalization is performed by subtracting from each column of $X$ the average of its values, and then by dividing by the standard deviation of its values. In the space below, you will first calculate the average and standard deviation of each column of $X$. "
   ]
  },
  {
   "cell_type": "code",
   "execution_count": 2,
   "metadata": {},
   "outputs": [],
   "source": [
    "# Average of the values in each column of X\n",
    "ave_cols =np.mean(X,axis=0)\n",
    "\n",
    "# Standard Deviation of the values in each column of X\n",
    "std_cols =np.std(X,axis=0)"
   ]
  },
  {
   "cell_type": "markdown",
   "metadata": {},
   "source": [
    "If you have done the above calculations correctly, then `ave_cols` and `std_cols`, should both be vectors with shape `(20,)` since $X$ has 20 columns. You can verify this by filling the code below:"
   ]
  },
  {
   "cell_type": "code",
   "execution_count": 3,
   "metadata": {},
   "outputs": [
    {
     "name": "stdout",
     "output_type": "stream",
     "text": [
      "(20,)\n",
      "(20,)\n"
     ]
    }
   ],
   "source": [
    "# Print the shape of ave_cols\n",
    "print(np.shape(ave_cols))\n",
    "\n",
    "# Print the shape of std_cols\n",
    "print(np.shape(std_cols))"
   ]
  },
  {
   "cell_type": "markdown",
   "metadata": {},
   "source": [
    "You can now take advantage of Broadcasting to calculate the mean normalized version of $X$ in just one line of code using the equation above. Fill in the code below"
   ]
  },
  {
   "cell_type": "code",
   "execution_count": 4,
   "metadata": {},
   "outputs": [],
   "source": [
    "# Mean normalize X\n",
    "X_norm =(X-ave_cols)/std_cols"
   ]
  },
  {
   "cell_type": "markdown",
   "metadata": {},
   "source": [
    "If you have performed the mean normalization correctly, then the average of all the elements in $X_{\\tiny{\\mbox{norm}}}$ should be close to zero, and they should be evenly distributed in some small interval around zero. You can verify this by filing the code below:"
   ]
  },
  {
   "cell_type": "code",
   "execution_count": 5,
   "metadata": {},
   "outputs": [
    {
     "name": "stdout",
     "output_type": "stream",
     "text": [
      "2.1671553440683057e-17\n",
      "[-1.67345969 -1.67386993 -1.7042421  -1.7507865  -1.77027517 -1.80758373\n",
      " -1.70322779 -1.8578367  -1.74607166 -1.65384984 -1.80955339 -1.76119471\n",
      " -1.73389252 -1.68890756 -1.71616817 -1.77105758 -1.7412112  -1.76626573\n",
      " -1.74598016 -1.71522249]\n",
      "[1.7204414  1.77210859 1.75145493 1.79731908 1.69137993 1.70709718\n",
      " 1.71588309 1.67125205 1.67960099 1.7000895  1.69943676 1.68215481\n",
      " 1.79225191 1.70939694 1.75436705 1.70496573 1.65963315 1.63589567\n",
      " 1.67450911 1.70873485]\n"
     ]
    }
   ],
   "source": [
    "# Print the average of all the values of X_norm\n",
    "print(X_norm.mean())\n",
    "\n",
    "# Print the average of the minimum value in each column of X_norm\n",
    "print(X_norm.min(axis=0))\n",
    "\n",
    "# Print the average of the maximum value in each column of X_norm\n",
    "print(X_norm.max(axis=0))"
   ]
  },
  {
   "cell_type": "markdown",
   "metadata": {},
   "source": [
    "You should note that since $X$ was created using random integers, the above values will vary. \n",
    "\n",
    "# Data Separation\n",
    "\n",
    "After the data has been mean normalized, it is customary in machine learnig to split our dataset into three sets:\n",
    "\n",
    "1. A Training Set\n",
    "2. A Cross Validation Set\n",
    "3. A Test Set\n",
    "\n",
    "The dataset is usually divided such that the Training Set contains 60% of the data, the Cross Validation Set contains 20% of the data, and the Test Set contains 20% of the data. \n",
    "\n",
    "In this part of the lab you will separate `X_norm` into a Training Set, Cross Validation Set, and a Test Set. Each data set will contain rows of `X_norm` chosen at random, making sure that we don't pick the same row twice. This will guarantee that all the rows of `X_norm` are chosen and randomly distributed among the three new sets.\n",
    "\n",
    "You will start by creating a rank 1 ndarray that contains a random permutation of the row indices of `X_norm`. You can do this by using the `np.random.permutation()` function. The `np.random.permutation(N)` function creates a random permutation of integers from 0 to `N - 1`. Let's see an example:"
   ]
  },
  {
   "cell_type": "code",
   "execution_count": 6,
   "metadata": {},
   "outputs": [
    {
     "data": {
      "text/plain": [
       "array([2, 4, 0, 1, 3])"
      ]
     },
     "execution_count": 6,
     "metadata": {},
     "output_type": "execute_result"
    }
   ],
   "source": [
    "# We create a random permutation of integers 0 to 4\n",
    "np.random.permutation(5)"
   ]
  },
  {
   "cell_type": "markdown",
   "metadata": {},
   "source": [
    "# To Do\n",
    "\n",
    "In the space below create a rank 1 ndarray that contains a random permutation of the row indices of `X_norm`. You can do this in one line of code by extracting the number of rows of `X_norm` using the `shape` attribute and then passing it to the  `np.random.permutation()` function. Remember the `shape` attribute returns a tuple with two numbers in the form `(rows,columns)`."
   ]
  },
  {
   "cell_type": "code",
   "execution_count": 8,
   "metadata": {},
   "outputs": [
    {
     "name": "stdout",
     "output_type": "stream",
     "text": [
      "1000\n"
     ]
    }
   ],
   "source": [
    "print(np.shape(X_norm)[0])"
   ]
  },
  {
   "cell_type": "code",
   "execution_count": 9,
   "metadata": {},
   "outputs": [],
   "source": [
    "# Create a rank 1 ndarray that contains a random permutation of the row indices of `X_norm`\n",
    "row_indices =np.random.permutation(np.shape(X_norm)[0])"
   ]
  },
  {
   "cell_type": "code",
   "execution_count": 10,
   "metadata": {},
   "outputs": [
    {
     "data": {
      "text/plain": [
       "array([646, 466, 103, 714, 234, 363, 104, 582, 285, 970, 880, 755, 358,\n",
       "       162, 567, 838, 720, 849, 311, 509, 283, 174, 590, 459, 443, 893,\n",
       "       150, 682, 468, 775, 335, 555, 549,  99, 663, 453, 791, 897, 723,\n",
       "       205, 269, 258, 229, 398, 154, 429,  82, 106, 689, 185, 580, 462,\n",
       "        32, 861, 277,  31, 771, 118, 522,  30, 796,   9, 149, 500, 679,\n",
       "       768, 160, 497, 912,  97, 318, 600, 472, 486, 173, 742, 423, 420,\n",
       "        39,  64, 540, 524, 480, 797,  57, 579, 109, 788, 690, 327, 546,\n",
       "       683, 377, 210, 299, 382, 165, 224, 408, 189, 561, 444, 202, 552,\n",
       "       446, 239, 624, 270, 268, 944, 403, 449, 596,  19, 215, 913, 113,\n",
       "       432, 132, 584, 793, 942, 551,  81, 882, 502, 905, 345,  88, 648,\n",
       "       208, 784, 651, 794, 304, 489, 868, 704, 972, 457,  34, 138,  90,\n",
       "       712, 957, 642,  10,  62, 602, 349, 964, 877, 645, 634, 940, 995,\n",
       "       388, 889, 168,  83, 296, 129, 243,  70, 126, 595, 948, 968, 988,\n",
       "       178,   8, 625, 967, 140, 873, 447, 945, 656, 661, 193, 399, 883,\n",
       "       777, 394, 148, 916, 458, 990, 711, 848, 383,  71, 161, 424, 235,\n",
       "        28,  59, 136, 673,  61, 626, 762, 991, 675, 145, 924, 875, 997,\n",
       "       310, 757, 733, 159, 640, 232, 419,  95, 331, 887, 851, 146, 653,\n",
       "        16, 137, 923, 386, 543, 885, 890, 401, 248, 124, 752,  60, 493,\n",
       "        77, 241, 320, 971, 179,  52, 966, 218, 128,   5, 131, 240, 250,\n",
       "       255, 222, 387, 693, 476,  18, 207, 953, 175, 300, 722, 643, 517,\n",
       "       902, 228, 603, 332, 747, 630,  74, 427, 370, 865, 627, 701, 730,\n",
       "       357, 899, 570, 860, 934,   6, 514,  73, 740,  47, 962,  84, 142,\n",
       "       638, 935, 949, 482, 695, 341, 979, 247, 433, 416, 599, 987, 606,\n",
       "       735, 795, 264,  75, 906, 494, 397, 563, 313, 911, 918, 195, 932,\n",
       "       961, 200, 901, 284,  54,  24,  58, 973,  20, 231, 351, 483, 801,\n",
       "       790, 856, 878, 325, 963, 297, 703, 996, 699, 980,   4,  67, 809,\n",
       "       544,  89, 309, 778, 765, 782, 710, 844, 700, 290, 448, 470, 744,\n",
       "       414, 186, 167,  22, 657, 652, 156, 792, 201, 863, 698, 697, 216,\n",
       "        38, 541, 456, 931, 409, 872, 487,  50, 658, 936,  80, 920, 520,\n",
       "       144, 107, 177, 526, 246, 273, 726, 307, 975, 840, 353, 108, 981,\n",
       "       684, 266, 147, 845, 306, 481, 276, 803, 329, 271, 687, 328, 379,\n",
       "       834, 182, 836,  23, 435, 738, 823, 989, 293,  55, 347, 708,  91,\n",
       "       754, 862,  87, 438, 158, 783, 324, 287, 854, 715, 830, 516, 404,\n",
       "       279,  25, 678, 365, 436, 272, 999, 450, 574, 589, 928, 475, 510,\n",
       "       779, 223, 226, 904, 998, 360, 465,  53, 619, 869, 428, 799,  85,\n",
       "       519, 739, 895, 571, 115, 187, 176, 527,  79, 375, 956,  14, 233,\n",
       "       238, 573, 578,  66, 641,  94, 914, 841, 650, 183, 831, 774, 253,\n",
       "       371, 434, 767, 440, 461, 491, 772, 746, 731, 100, 301, 400, 558,\n",
       "       155, 180, 384, 631, 677, 286,  43, 535, 259, 134, 547, 194, 396,\n",
       "       565, 278, 523, 612, 879, 425, 392, 917, 503, 992, 593,  49, 105,\n",
       "       978, 378, 921,  86, 439, 621, 938, 366, 121, 352, 806, 859, 761,\n",
       "       592, 198, 274, 586, 188, 812, 588, 985, 694, 660, 655, 716, 937,\n",
       "       511, 163, 406, 350, 538, 213,  72, 405, 933, 632, 133,  21, 604,\n",
       "       342, 171, 473, 939, 125, 929, 460, 965,  45, 950, 330, 361,  78,\n",
       "       191, 217, 390, 169, 326, 471, 410,  40, 670, 832, 445, 267, 808,\n",
       "       820, 346, 252, 123, 847,  46, 886, 507, 824, 319, 455, 385, 770,\n",
       "       321, 610, 635, 908,  65, 926, 206, 732,  68, 407, 225, 164, 463,\n",
       "       910, 257, 798, 221, 753, 896, 426, 620, 874, 615, 530, 850, 343,\n",
       "       927, 639, 356, 691, 846, 513, 479, 941, 536, 664, 294,  44, 112,\n",
       "       367, 705, 729,  98, 374, 891, 736, 919, 681, 212, 785, 467, 909,\n",
       "       525, 114, 810, 827, 242, 564, 244, 323, 780, 348,  15, 843, 135,\n",
       "       743, 637,  92, 203, 515, 907, 340, 302, 597, 566, 763, 454, 671,\n",
       "       829, 117, 334, 557, 713, 245, 858, 119, 750, 152, 802, 256, 804,\n",
       "       816, 769, 431, 111, 553, 528, 680, 898, 598, 577, 781, 633, 262,\n",
       "       892, 315, 230, 721, 773, 852, 260, 776, 548, 190, 101, 316, 819,\n",
       "       817, 725, 759, 355,  37, 166, 317, 685, 649, 818, 676, 955, 251,\n",
       "       581, 835,   1, 662, 623, 575, 871,  29, 654, 380, 333, 417, 219,\n",
       "       505, 534, 529, 628, 559, 295, 617, 560, 866, 488, 170, 153, 314,\n",
       "       828, 724, 411, 900, 748,   3, 305, 734,  36, 545, 464, 127, 418,\n",
       "       864, 984, 537, 591, 894, 412, 485, 717, 569, 192, 833, 393, 977,\n",
       "       837, 993, 451, 249, 587, 261, 413, 196, 825, 376, 437, 805, 354,\n",
       "       430, 609, 288, 236, 706, 758, 607, 867, 954, 395, 644, 474, 220,\n",
       "       756, 614,  35, 974, 280,  33, 986, 870,  41, 184, 181, 707, 618,\n",
       "       478, 686,  12, 969, 275, 344, 814, 533, 943, 789, 415, 568, 855,\n",
       "       960, 199, 727,  56, 815, 853, 576,   7, 282,  13, 143, 659, 925,\n",
       "       211,  93, 102, 477, 209, 813, 826, 605, 672, 381, 402, 312, 263,\n",
       "       521, 857, 629, 958,  96, 930,  26, 172, 674, 421, 616, 688, 372,\n",
       "        76, 495, 807, 572,   2, 822, 884, 298, 265, 594, 157, 947, 719,\n",
       "       903, 362, 665,  63, 289, 983, 994, 506, 504, 422, 373, 227, 622,\n",
       "       766, 322, 110, 120, 952, 441,  11, 337,  17, 668,  51, 281, 490,\n",
       "       881,  27, 611, 585, 496, 749, 508, 518, 130, 613, 760, 800, 922,\n",
       "       696, 839, 542, 484, 636, 787, 669, 718, 562, 888, 469,  42, 291,\n",
       "       976,  69, 702, 951, 532, 369, 915, 452, 391, 737, 601, 204, 876,\n",
       "       197, 214, 608, 512, 254, 531, 339, 764, 368, 499, 842, 745, 292,\n",
       "       141, 667, 308, 139, 647, 539, 982,   0, 359, 237, 692, 498, 556,\n",
       "       741, 709, 786, 583, 501,  48, 364, 336, 122, 338, 151, 666, 821,\n",
       "       389, 492, 946, 959, 811, 728, 442, 550, 303, 751, 554, 116])"
      ]
     },
     "execution_count": 10,
     "metadata": {},
     "output_type": "execute_result"
    }
   ],
   "source": [
    "row_indices"
   ]
  },
  {
   "cell_type": "markdown",
   "metadata": {},
   "source": [
    "Now you can create the three datasets using the `row_indices` ndarray to select the rows that will go into each dataset. Rememeber that the Training Set contains 60% of the data, the Cross Validation Set contains 20% of the data, and the Test Set contains 20% of the data. Each set requires just one line of code to create. Fill in the code below"
   ]
  },
  {
   "cell_type": "code",
   "execution_count": 11,
   "metadata": {},
   "outputs": [],
   "source": [
    "# Make any necessary calculations.\n",
    "# You can save your calculations into variables to use later.\n",
    "\n",
    "\n",
    "# Create a Training Set\n",
    "X_train =X_norm[row_indices[0:600],:]\n",
    "\n",
    "# Create a Cross Validation Set\n",
    "X_crossVal =X_norm[row_indices[600:800],:]\n",
    "\n",
    "# Create a Test Set\n",
    "X_test =X_norm[row_indices[800:1000],:]"
   ]
  },
  {
   "cell_type": "markdown",
   "metadata": {},
   "source": [
    "If you performed the above calculations correctly, then `X_tain` should have 600 rows and 20 columns, `X_crossVal` should have 200 rows and 20 columns, and `X_test` should have 200 rows and 20 columns. You can verify this by filling the code below:"
   ]
  },
  {
   "cell_type": "code",
   "execution_count": 12,
   "metadata": {},
   "outputs": [
    {
     "name": "stdout",
     "output_type": "stream",
     "text": [
      "(600, 20)\n",
      "(200, 20)\n",
      "(200, 20)\n"
     ]
    }
   ],
   "source": [
    "# Print the shape of X_train\n",
    "print(np.shape(X_train))\n",
    "\n",
    "# Print the shape of X_crossVal\n",
    "print(np.shape(X_crossVal))\n",
    "\n",
    "\n",
    "# Print the shape of X_test\n",
    "print(np.shape(X_test))\n"
   ]
  },
  {
   "cell_type": "code",
   "execution_count": null,
   "metadata": {},
   "outputs": [],
   "source": []
  }
 ],
 "metadata": {
  "kernelspec": {
   "display_name": "Python 3",
   "language": "python",
   "name": "python3"
  },
  "language_info": {
   "codemirror_mode": {
    "name": "ipython",
    "version": 3
   },
   "file_extension": ".py",
   "mimetype": "text/x-python",
   "name": "python",
   "nbconvert_exporter": "python",
   "pygments_lexer": "ipython3",
   "version": "3.7.7"
  }
 },
 "nbformat": 4,
 "nbformat_minor": 2
}
